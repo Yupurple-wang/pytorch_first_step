{
 "cells": [
  {
   "cell_type": "code",
   "execution_count": 1,
   "metadata": {},
   "outputs": [],
   "source": [
    "import torch\n",
    "import torchvision                                                       \n",
    "import torchvision.transforms as transforms\n",
    "\n",
    "import os.path\n"
   ]
  },
  {
   "cell_type": "code",
   "execution_count": 2,
   "metadata": {},
   "outputs": [],
   "source": [
    "############################################################################################ Datasets\n",
    "\n",
    "dataset_dir = os.path.join(os.path.expanduser(\"D:\\\\AAA\\\\CS\\\\2020-2021\\\\apprentisage_profond\"), 'Datasets', 'FashionMNIST')\n",
    "valid_ratio = 0.2  # Going to use 80%/20% split for train/valid\n",
    "\n",
    "# Load the dataset for the training/validation sets\n",
    "train_valid_dataset = torchvision.datasets.FashionMNIST(root=dataset_dir,\n",
    "                                           train=True,\n",
    "                                           transform= None, #transforms.ToTensor(),\n",
    "                                           download=True)"
   ]
  },
  {
   "cell_type": "code",
   "execution_count": 3,
   "metadata": {},
   "outputs": [
    {
     "data": {
      "text/plain": [
       "Dataset FashionMNIST\n",
       "    Number of datapoints: 60000\n",
       "    Root location: D:\\AAA\\CS\\2020-2021\\apprentisage_profond\\Datasets\\FashionMNIST\n",
       "    Split: Train"
      ]
     },
     "execution_count": 3,
     "metadata": {},
     "output_type": "execute_result"
    }
   ],
   "source": [
    "train_valid_dataset"
   ]
  },
  {
   "cell_type": "code",
   "execution_count": 4,
   "metadata": {},
   "outputs": [],
   "source": [
    "# Split it into training and validation sets\n",
    "nb_train = int((1.0 - valid_ratio) * len(train_valid_dataset))\n",
    "nb_valid =  int(valid_ratio * len(train_valid_dataset))\n",
    "train_dataset, valid_dataset = torch.utils.data.dataset.random_split(train_valid_dataset, [nb_train, nb_valid])\n",
    "\n",
    "\n"
   ]
  },
  {
   "cell_type": "code",
   "execution_count": 5,
   "metadata": {},
   "outputs": [
    {
     "name": "stdout",
     "output_type": "stream",
     "text": [
      "nb_train,48000,nb_valid,12000\n"
     ]
    }
   ],
   "source": [
    "print(f\"nb_train,{nb_train},nb_valid,{nb_valid}\")"
   ]
  },
  {
   "cell_type": "code",
   "execution_count": 6,
   "metadata": {},
   "outputs": [],
   "source": [
    "# Load the test set\n",
    "test_dataset = torchvision.datasets.FashionMNIST(root=dataset_dir,\n",
    "                                                 transform= None, #transforms.ToTensor(),\n",
    "                                                 train=False)"
   ]
  },
  {
   "cell_type": "code",
   "execution_count": 7,
   "metadata": {},
   "outputs": [
    {
     "data": {
      "text/plain": [
       "Dataset FashionMNIST\n",
       "    Number of datapoints: 10000\n",
       "    Root location: D:\\AAA\\CS\\2020-2021\\apprentisage_profond\\Datasets\\FashionMNIST\n",
       "    Split: Test"
      ]
     },
     "execution_count": 7,
     "metadata": {},
     "output_type": "execute_result"
    }
   ],
   "source": [
    "test_dataset"
   ]
  },
  {
   "cell_type": "code",
   "execution_count": 8,
   "metadata": {},
   "outputs": [],
   "source": [
    "class DatasetTransformer(torch.utils.data.Dataset):\n",
    "\n",
    "    def __init__(self, base_dataset, transform):\n",
    "        self.base_dataset = base_dataset\n",
    "        self.transform = transform\n",
    "\n",
    "    def __getitem__(self, index):\n",
    "        img, target = self.base_dataset[index]\n",
    "        return self.transform(img), target\n",
    "\n",
    "    def __len__(self):\n",
    "        return len(self.base_dataset)\n",
    "\n",
    "\n",
    "train_dataset = DatasetTransformer(train_dataset, transforms.ToTensor())\n",
    "valid_dataset = DatasetTransformer(valid_dataset, transforms.ToTensor())\n",
    "test_dataset  = DatasetTransformer(test_dataset , transforms.ToTensor())"
   ]
  },
  {
   "cell_type": "code",
   "execution_count": 9,
   "metadata": {},
   "outputs": [
    {
     "name": "stdout",
     "output_type": "stream",
     "text": [
      "The train set contains 48000 images, in 375 batches\n",
      "The validation set contains 12000 images, in 94 batches\n",
      "The test set contains 10000 images, in 79 batches\n"
     ]
    }
   ],
   "source": [
    "############################################################################################ Dataloaders\n",
    "num_threads = 1    # Loading the dataset is using 4 CPU threads\n",
    "batch_size  = 128   # Using minibatches of 128 samples\n",
    "\n",
    "# train_loader = torch.utils.data.DataLoader(dataset=train_dataset,\n",
    "#                                           batch_size=batch_size,       # 每个batch有多少个样本\n",
    "#                                           shuffle=True,                # <-- this reshuffles the data at every epoch \n",
    "#                                           num_workers=num_threads)     # 有几个进程来处理data loading\n",
    "\n",
    "# valid_loader = torch.utils.data.DataLoader(dataset=valid_dataset,\n",
    "#                                           batch_size=batch_size, \n",
    "#                                           shuffle=False,\n",
    "#                                           num_workers=num_threads)\n",
    "\n",
    "\n",
    "# test_loader = torch.utils.data.DataLoader(dataset=test_dataset,\n",
    "#                                           batch_size=batch_size,\n",
    "#                                           shuffle=False,\n",
    "#                                           num_workers=num_threads)\n",
    "train_loader = torch.utils.data.DataLoader(dataset=train_dataset,\n",
    "                                          batch_size=batch_size,       # 每个batch有多少个样本\n",
    "                                          shuffle=True                # <-- this reshuffles the data at every epoch \n",
    "                                          )     # 有几个进程来处理data loading\n",
    "\n",
    "valid_loader = torch.utils.data.DataLoader(dataset=valid_dataset,\n",
    "                                          batch_size=batch_size, \n",
    "                                          shuffle=False)\n",
    "\n",
    "\n",
    "test_loader = torch.utils.data.DataLoader(dataset=test_dataset,\n",
    "                                          batch_size=batch_size,\n",
    "                                          shuffle=False)\n",
    "\n",
    "print(\"The train set contains {} images, in {} batches\".format(len(train_loader.dataset), len(train_loader)))\n",
    "print(\"The validation set contains {} images, in {} batches\".format(len(valid_loader.dataset), len(valid_loader)))\n",
    "print(\"The test set contains {} images, in {} batches\".format(len(test_loader.dataset), len(test_loader)))"
   ]
  },
  {
   "cell_type": "code",
   "execution_count": 10,
   "metadata": {},
   "outputs": [
    {
     "data": {
      "image/png": "[encoded data removed]",
      "text/plain": [
       "<Figure size 1440x360 with 10 Axes>"
      ]
     },
     "metadata": {},
     "output_type": "display_data"
    }
   ],
   "source": [
    "import matplotlib.pyplot as plt\n",
    "import matplotlib.cm as cm\n",
    "\n",
    "nsamples=10\n",
    "classes_names = ['T-shirt/top', 'Trouser', 'Pullover', 'Dress', 'Coat', 'Sandal','Shirt', 'Sneaker', 'Bag', 'Ankle boot']\n",
    "imgs, labels = next(iter(train_loader))\n",
    "\n",
    "fig=plt.figure(figsize=(20,5),facecolor='w')\n",
    "for i in range(nsamples):\n",
    "    ax = plt.subplot(1,nsamples, i+1)\n",
    "    plt.imshow(imgs[i, 0, :, :], vmin=0, vmax=1.0, cmap=cm.gray)\n",
    "    ax.set_title(\"{}\".format(classes_names[labels[i]]), fontsize=15)\n",
    "    ax.get_xaxis().set_visible(False)\n",
    "    ax.get_yaxis().set_visible(False)\n",
    "\n",
    "plt.savefig('fashionMNIST_samples.png', bbox_inches='tight')\n",
    "plt.show()"
   ]
  },
  {
   "cell_type": "code",
   "execution_count": 11,
   "metadata": {},
   "outputs": [
    {
     "name": "stderr",
     "output_type": "stream",
     "text": [
      "D:\\Anaconda\\envs\\gpu\\lib\\site-packages\\torch\\cuda\\__init__.py:52: UserWarning: CUDA initialization: The NVIDIA driver on your system is too old (found version 10000). Please update your GPU driver by downloading and installing a new version from the URL: http://www.nvidia.com/Download/index.aspx Alternatively, go to: https://pytorch.org to install a PyTorch version that has been compiled with your version of the CUDA driver. (Triggered internally at  ..\\c10\\cuda\\CUDAFunctions.cpp:100.)\n",
      "  return torch._C._cuda_getDeviceCount() > 0\n"
     ]
    },
    {
     "data": {
      "text/plain": [
       "LinearNet(\n",
       "  (classifier): Linear(in_features=784, out_features=10, bias=True)\n",
       ")"
      ]
     },
     "execution_count": 11,
     "metadata": {},
     "output_type": "execute_result"
    }
   ],
   "source": [
    "import torch.nn as nn\n",
    "\n",
    "class LinearNet(nn.Module):\n",
    "    def __init__(self, input_size, num_classes):\n",
    "        super(LinearNet, self).__init__()\n",
    "        self.input_size = input_size\n",
    "        self.classifier = nn.Linear(self.input_size, num_classes)\n",
    "\n",
    "    def forward(self, x):\n",
    "        x = x.view(x.size()[0], -1)   # (a,b,c) -> 输出维度 (a,b*c)\n",
    "        y = self.classifier(x)\n",
    "        return y\n",
    "\n",
    "model = LinearNet(1*28*28, 10)\n",
    "\n",
    "use_gpu = torch.cuda.is_available()\n",
    "if use_gpu:\n",
    "    device = torch.device('cuda')\n",
    "else:\n",
    "    device = torch.device('cpu')\n",
    "\n",
    "\n",
    "model.to(device)"
   ]
  },
  {
   "cell_type": "code",
   "execution_count": 12,
   "metadata": {},
   "outputs": [],
   "source": [
    "# instantiate the loss :\n",
    "f_loss = torch.nn.CrossEntropyLoss()\n",
    "\n",
    "\n",
    "# instantiate the optimizer:\n",
    "optimizer = torch.optim.Adam(model.parameters())"
   ]
  },
  {
   "cell_type": "code",
   "execution_count": 13,
   "metadata": {},
   "outputs": [],
   "source": [
    "def train(model, loader, f_loss, optimizer, device):\n",
    "    \"\"\"\n",
    "    Train a model for one epoch, iterating over the loader\n",
    "    using the f_loss to compute the loss and the optimizer\n",
    "    to update the parameters of the model.\n",
    "\n",
    "    Arguments :\n",
    "\n",
    "        model     -- A torch.nn.Module object\n",
    "        loader    -- A torch.utils.data.DataLoader\n",
    "        f_loss    -- The loss function, i.e. a loss Module\n",
    "        optimizer -- A torch.optim.Optimzer object\n",
    "        device    -- a torch.device class specifying the device\n",
    "                     used for computation\n",
    "\n",
    "    Returns :\n",
    "    \"\"\"\n",
    "\n",
    "    # We enter train mode. This is useless for the linear model\n",
    "    # but is important for layers such as dropout, batchnorm, ...\n",
    "    model.train()\n",
    "\n",
    "    for i, (inputs, targets) in enumerate(loader):\n",
    "        inputs, targets = inputs.to(device), targets.to(device)\n",
    "\n",
    "        # Compute the forward pass through the network up to the loss\n",
    "        outputs = model(inputs)\n",
    "        loss = f_loss(outputs, targets)\n",
    "\n",
    "        # Backward and optimize\n",
    "        optimizer.zero_grad()   # 清空过往梯度\n",
    "        loss.backward()         # 反向传播，计算当前梯度\n",
    "        optimizer.step()        # 根据梯度更新网络参数\n",
    "\n",
    "\n",
    "# An example of calling train to learn over 10 epochs of the training set\n",
    "for i in range(10):\n",
    "    train(model, train_loader, f_loss, optimizer, device)"
   ]
  },
  {
   "cell_type": "code",
   "execution_count": 14,
   "metadata": {},
   "outputs": [],
   "source": [
    "def test(model, loader, f_loss, device):\n",
    "    \"\"\"\n",
    "    Test a model by iterating over the loader\n",
    "\n",
    "    Arguments :\n",
    "\n",
    "        model     -- A torch.nn.Module object\n",
    "        loader    -- A torch.utils.data.DataLoader\n",
    "        f_loss    -- The loss function, i.e. a loss Module\n",
    "        device    -- The device to use for computation \n",
    "\n",
    "    Returns :\n",
    "\n",
    "        A tuple with the mean loss and mean accuracy\n",
    "\n",
    "    \"\"\"\n",
    "    # We disable gradient computation which speeds up the computation\n",
    "    # and reduces the memory usage\n",
    "    with torch.no_grad():\n",
    "        # We enter evaluation mode. This is useless for the linear model\n",
    "        # but is important with layers such as dropout, batchnorm, ..\n",
    "        \n",
    "        model.eval()  \n",
    "       # 不启用 BatchNormalization 和 Dropout\n",
    "       # 训练完train样本后，生成的模型model要用来测试样本。在model(test)之前，\n",
    "       # 需要加上model.eval()，否则的话，有输入数据，即使不训练，它也会改变权值。\n",
    "    \n",
    "        N = 0\n",
    "        tot_loss, correct = 0.0, 0.0\n",
    "        for i, (inputs, targets) in enumerate(loader):\n",
    "\n",
    "            # We got a minibatch from the loader within inputs and targets\n",
    "            # With a mini batch size of 128, we have the following shapes\n",
    "            #    inputs is of shape (128, 1, 28, 28)\n",
    "            #    targets is of shape (128)\n",
    "\n",
    "            # We need to copy the data on the GPU if we use one\n",
    "            inputs, targets = inputs.to(device), targets.to(device)\n",
    "\n",
    "            # Compute the forward pass, i.e. the scores for each input image\n",
    "            outputs = model(inputs)\n",
    "\n",
    "            # We accumulate the exact number of processed samples\n",
    "            N += inputs.shape[0]   # ([128, 1, 28, 28])\n",
    "\n",
    "            # We accumulate the loss considering\n",
    "            # The multipliation by inputs.shape[0] is due to the fact\n",
    "            # that our loss criterion is averaging over its samples\n",
    "            tot_loss += inputs.shape[0] * f_loss(outputs, targets).item()\n",
    "\n",
    "            # For the accuracy, we compute the labels for each input image\n",
    "            # Be carefull, the model is outputing scores and not the probabilities\n",
    "            # But given the softmax is not altering the rank of its input scores\n",
    "            # we can compute the label by argmaxing directly the scores\n",
    "            predicted_targets = outputs.argmax(dim=1)\n",
    "            correct += (predicted_targets == targets).sum().item()\n",
    "        return tot_loss/N, correct/N, correct"
   ]
  },
  {
   "cell_type": "code",
   "execution_count": 15,
   "metadata": {},
   "outputs": [
    {
     "name": "stdout",
     "output_type": "stream",
     "text": [
      "Loss : 0.4117, Acc : 0.8562, Corect : 10274.0000\n"
     ]
    }
   ],
   "source": [
    "import sys\n",
    "import random\n",
    "import time\n",
    "\n",
    "epochs = 5\n",
    "\n",
    "def progress(loss, acc, correct):\n",
    "    sys.stdout.write('Loss : {:2.4f}, Acc : {:2.4f}, Corect : {:2.4f}\\r'.format(loss, acc,correct))\n",
    "    sys.stdout.flush()\n",
    "    \n",
    "for t in range(epochs):\n",
    "    # print(\"Epoch {}\".format(t))\n",
    "    train(model, train_loader, f_loss, optimizer, device)\n",
    "    \n",
    "    val_loss, val_acc,correct = test(model, valid_loader, f_loss, device)\n",
    "    progress(val_loss, val_acc, correct)\n",
    "    # print(\" Validation : Loss : {:.4f}, Acc : {:.4f}\".format(val_loss, val_acc))\n",
    "sys.stdout.write('\\n')  # sys.stdout的形式就是print的一种默认输出格式"
   ]
  },
  {
   "cell_type": "code",
   "execution_count": 16,
   "metadata": {},
   "outputs": [
    {
     "name": "stdout",
     "output_type": "stream",
     "text": [
      "Logging to D:/AAA/CS/2020-2021/apprentisage_profond/logs\\linear_2\n",
      "Logging to D:/AAA/CS/2020-2021/apprentisage_profond/logs\\linear_3\n"
     ]
    }
   ],
   "source": [
    "# Saving the best model\n",
    "\n",
    "import os\n",
    "\n",
    "def generate_unique_logpath(logdir, raw_run_name):\n",
    "    i = 0\n",
    "    while(True):\n",
    "        run_name = raw_run_name + \"_\" + str(i)\n",
    "        log_path = os.path.join(logdir, run_name)\n",
    "        if not os.path.isdir(log_path):\n",
    "            return log_path\n",
    "        i = i + 1\n",
    "\n",
    "\n",
    "###################################################\n",
    "# Example usage :\n",
    "# 1- create the directory \"./logs\" if it does not exist\n",
    "top_logdir = \"D:/AAA/CS/2020-2021/apprentisage_profond/logs\"\n",
    "if not os.path.exists(top_logdir):\n",
    "    os.mkdir(top_logdir)\n",
    "\n",
    "# 2- We test the function by calling several times our function\n",
    "logdir = generate_unique_logpath(top_logdir, \"linear\")\n",
    "print(\"Logging to {}\".format(logdir))\n",
    "# -> Prints out     Logging to   ./logs/linear_0\n",
    "if not os.path.exists(logdir):\n",
    "    os.mkdir(logdir)\n",
    "\n",
    "logdir = generate_unique_logpath(top_logdir, \"linear\")\n",
    "print(\"Logging to {}\".format(logdir))\n",
    "# -> Prints out     Logging to   ./logs/linear_1\n",
    "if not os.path.exists(logdir):\n",
    "    os.mkdir(logdir)"
   ]
  },
  {
   "cell_type": "code",
   "execution_count": 17,
   "metadata": {},
   "outputs": [
    {
     "name": "stdout",
     "output_type": "stream",
     "text": [
      "Saving a better model\n"
     ]
    }
   ],
   "source": [
    "class ModelCheckpoint:\n",
    "\n",
    "    def __init__(self, filepath, model):\n",
    "        self.min_loss = None\n",
    "        self.filepath = filepath\n",
    "        self.model = model\n",
    "\n",
    "    def update(self, loss):\n",
    "        if (self.min_loss is None) or (loss < self.min_loss):\n",
    "            print(\"Saving a better model\")\n",
    "            torch.save(self.model.state_dict(), self.filepath)\n",
    "            #torch.save(self.model, self.filepath)\n",
    "            self.min_loss = loss\n",
    "\n",
    "###########################################\n",
    "# Example usage \n",
    "\n",
    "# Define the callback object\n",
    "model_checkpoint = ModelCheckpoint(logdir + \"/best_model.pt\", model)\n",
    "\n",
    "\n",
    "# In the training loop \n",
    "for t in range(epochs):\n",
    "    train(model, train_loader, f_loss, optimizer, device)\n",
    "    model_checkpoint.update(val_loss)"
   ]
  },
  {
   "cell_type": "code",
   "execution_count": 18,
   "metadata": {},
   "outputs": [
    {
     "name": "stdout",
     "output_type": "stream",
     "text": [
      " Test       : Loss : 0.4491, Acc : 0.8443\n"
     ]
    }
   ],
   "source": [
    "# Loading the best model\n",
    "\n",
    "model_path = \"D:/AAA/CS/2020-2021/apprentisage_profond/logs/linear_1/best_model.pt\"\n",
    "model = LinearNet(1*28*28, 10)\n",
    "\n",
    "model = model.to(device)\n",
    "\n",
    "model.load_state_dict(torch.load(model_path))\n",
    "\n",
    "# Switch to eval mode \n",
    "model.eval()\n",
    "\n",
    "test_loss, test_acc, _ = test(model, test_loader, f_loss, device)\n",
    "print(\" Test       : Loss : {:.4f}, Acc : {:.4f}\".format(test_loss, test_acc))"
   ]
  },
  {
   "cell_type": "code",
   "execution_count": 19,
   "metadata": {},
   "outputs": [],
   "source": [
    "from torch.utils.tensorboard import SummaryWriter\n",
    " \n",
    "# 模拟输入数据\n",
    "x = torch.randn(128, 1, 28, 28)\n",
    "x = x.view(x.size()[0], -1)\n",
    " \n",
    "# 导入已有模型\n",
    "model.load_state_dict(torch.load(model_path))\n",
    "\n",
    "# Switch to eval mode \n",
    "model.eval()\n",
    "\n",
    "\n",
    "# 声明writer对象，保存的文件夹，异己名称\n",
    "writer = SummaryWriter(log_dir='D:/AAA/CS/2020-2021/apprentisage_profond/board/')\n",
    "with writer:\n",
    "    writer.add_graph(model, (x,))\n",
    "test_loss, test_acc, _ = test(model, test_loader, f_loss, device)\n",
    "    \n",
    "\n"
   ]
  },
  {
   "cell_type": "code",
   "execution_count": 21,
   "metadata": {},
   "outputs": [],
   "source": [
    "for t in range(epochs):\n",
    "    test_loss, test_acc, _ = test(model, test_loader, f_loss, device)\n",
    "\n",
    "    writer.add_scalar('D:/AAA/CS/2020-2021/apprentisage_profond/val_loss', test_loss, t)\n",
    "    writer.add_scalar('D:/AAA/CS/2020-2021/apprentisage_profond/val_acc',  test_acc, t)"
   ]
  },
  {
   "cell_type": "code",
   "execution_count": null,
   "metadata": {},
   "outputs": [],
   "source": []
  }
 ],
 "metadata": {
  "kernelspec": {
   "display_name": "Python 3",
   "language": "python",
   "name": "python3"
  },
  "language_info": {
   "codemirror_mode": {
    "name": "ipython",
    "version": 3
   },
   "file_extension": ".py",
   "mimetype": "text/x-python",
   "name": "python",
   "nbconvert_exporter": "python",
   "pygments_lexer": "ipython3",
   "version": "3.7.9"
  }
 },
 "nbformat": 4,
 "nbformat_minor": 4
}
